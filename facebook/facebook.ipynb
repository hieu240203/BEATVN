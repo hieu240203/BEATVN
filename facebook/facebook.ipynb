{
 "cells": [
  {
   "cell_type": "code",
   "execution_count": 11,
   "metadata": {},
   "outputs": [],
   "source": [
    "from datetime import datetime   \n",
    "from My_functions import *"
   ]
  },
  {
   "cell_type": "code",
   "execution_count": 12,
   "metadata": {},
   "outputs": [],
   "source": [
    "df = pd.read_excel(\"Link_facebook.xlsx\")"
   ]
  },
  {
   "cell_type": "code",
   "execution_count": 13,
   "metadata": {},
   "outputs": [],
   "source": [
    "with open(r'D:\\craw data facebook\\facebook\\facebook_credentials.txt') as file:\n",
    "    EMAIL = file.readline().split('\"')[1]\n",
    "    PASSWORD = file.readline().split('\"')[1]"
   ]
  },
  {
   "cell_type": "code",
   "execution_count": 14,
   "metadata": {},
   "outputs": [],
   "source": [
    "def _login(browser, email, password):\n",
    "    browser.get('https://www.facebook.com/login')\n",
    "    email_input = browser.find_element(\"id\", \"email\")\n",
    "    password_input = browser.find_element(\"id\", \"pass\")\n",
    "    email_input.send_keys(email)\n",
    "    password_input.send_keys(password)\n",
    "    login_button = browser.find_element(\"name\", \"login\")\n",
    "    login_button.click()\n",
    "    time.sleep(random.randint(5, 10))"
   ]
  },
  {
   "cell_type": "code",
   "execution_count": 15,
   "metadata": {},
   "outputs": [],
   "source": [
    "# Cấu hình các tùy chọn cho Chrome\n",
    "chrome_options = Options()\n",
    "chrome_options.add_argument(\"--disable-notifications\")\n",
    "chrome_options.add_argument(\"--dns-prefetch-disable\")\n",
    "chrome_options.add_argument(\"--ignore-certificate-errors\")\n",
    "chrome_options.add_argument(\"--no-sandbox\")\n",
    "chrome_options.add_argument(\"--disable-gpu\")\n",
    "\n",
    "# Khởi tạo ChromeDriver với các tùy chọn đã thiết lập\n",
    "service = Service(ChromeDriverManager().install())\n",
    "driver = webdriver.Chrome(service=service, options=chrome_options)\n",
    "\n",
    "current_day = datetime.now().strftime('%m-%d-%Y')\n",
    "\n",
    "# Đăng nhập vào Facebook\n",
    "_login(driver, EMAIL, PASSWORD)\n",
    "\n",
    "# Mở file để ghi dữ liệu\n",
    "with open('output_Data.txt', 'a', encoding='utf-8') as f:\n",
    "    # Duyệt qua từng Fanpage hoặc Group\n",
    "    for i in range(0, len(df)):\n",
    "        try:\n",
    "            data_page = {\n",
    "                \"Hệ Kênh\": df['Hệ Kênh'][i], \n",
    "                \"Tên page\": df['Tên Page'][i],\n",
    "                \"Link page\": df['Link'][i],\n",
    "                \"Số like\": None,\n",
    "                \"Số Follower\": None,\n",
    "                \"Số Người tham gia\": None, \n",
    "                \"Nền tảng\": df['Nền tảng'][i], \n",
    "                \"Ngày save\": current_day\n",
    "            }\n",
    "\n",
    "            # Truy cập vào trang\n",
    "            driver.get(data_page['Link page'])\n",
    "            time.sleep(random.randint(3, 6))  # Đợi để trang tải hoàn tất\n",
    "\n",
    "            # Lấy mã nguồn HTML của trang\n",
    "            page_source = driver.page_source\n",
    "\n",
    "            # Sử dụng BeautifulSoup để phân tích HTML\n",
    "            soup = BeautifulSoup(page_source, 'html.parser')\n",
    "            scroll_until_end(driver, duration=random.randint(1, 3))\n",
    "\n",
    "            # Trường hợp là Group, lấy số người tham gia\n",
    "            member_element = soup.find('a', href=lambda href: href and '/members/' in href)\n",
    "            if member_element:\n",
    "                members_text = member_element.get_text().strip()\n",
    "                members_number = members_text.split()[0]  # Giả sử số người tham gia là phần đầu tiên\n",
    "                data_page['Số Người tham gia'] = members_number\n",
    "\n",
    "            # Lấy số lượt thích\n",
    "            like_element = soup.find('a', href=lambda href: href and '/friends_likes/' in href)\n",
    "            if like_element:\n",
    "                likes = like_element.get_text().split()[0]  # Lấy phần text đầu tiên, thường là số likes\n",
    "                data_page['Số like'] = likes\n",
    "\n",
    "            # Lấy số lượng followers\n",
    "            follower_element = soup.find('a', href=lambda href: href and '/followers/' in href)\n",
    "            if follower_element:\n",
    "                followers_text = follower_element.get_text().strip()\n",
    "                followers_number = followers_text.split()[0]  # Lấy số đầu tiên\n",
    "                data_page['Số Follower'] = followers_number\n",
    "\n",
    "            # Ghi dữ liệu ngay lập tức vào file sau mỗi lần lấy xong dữ liệu từ một trang\n",
    "            f.write(f\"Hệ Kênh: {data_page['Hệ Kênh']}\\n\")\n",
    "            f.write(f\"Tên page: {data_page['Tên page']}\\n\")\n",
    "            f.write(f\"Link page: {data_page['Link page']}\\n\")\n",
    "            f.write(f\"Số like: {data_page['Số like']}\\n\")\n",
    "            f.write(f\"Số Follower: {data_page['Số Follower']}\\n\")\n",
    "            f.write(f\"Số Người tham gia: {data_page['Số Người tham gia']}\\n\")\n",
    "            f.write(f\"Nền tảng: {data_page['Nền tảng']}\\n\")\n",
    "            f.write(f\"Ngày save: {data_page['Ngày save']}\\n\")  # Ghi ngày lưu dữ liệu\n",
    "            f.write(\"-\" * 40 + \"\\n\")\n",
    "\n",
    "            # Nếu cả 3 trường đều là None, ghi vào file lỗi\n",
    "            if data_page['Số like'] is None and data_page['Số Follower'] is None and data_page['Số Người tham gia'] is None:\n",
    "                with open('link_loi.txt', 'a', encoding='utf-8') as error_file:\n",
    "                    error_file.write(f\"Hệ Kênh: {data_page['Hệ Kênh']}\\n\")\n",
    "                    error_file.write(f\"Tên page: {data_page['Tên page']}\\n\")\n",
    "                    error_file.write(f\"Link page: {data_page['Link page']}\\n\")\n",
    "                    error_file.write(f\"Nền tảng: {data_page['Nền tảng']}\\n\")\n",
    "                    error_file.write(\"-\" * 40 + \"\\n\")\n",
    "\n",
    "        except Exception as e:\n",
    "            # Nếu có lỗi ngoại lệ, ghi thông tin về link lỗi vào file\n",
    "            with open('link_loi.txt', 'a', encoding='utf-8') as error_file:\n",
    "                error_file.write(f\"Hệ Kênh: {data_page['Hệ Kênh']}\\n\")\n",
    "                error_file.write(f\"Tên page: {data_page['Tên page']}\\n\")\n",
    "                error_file.write(f\"Link page: {data_page['Link page']}\\n\")\n",
    "                error_file.write(f\"Nền tảng: {data_page['Nền tảng']}\\n\")\n",
    "                error_file.write(\"-\" * 40 + \"\\n\")\n",
    "\n",
    "            # Tiếp tục với liên kết tiếp theo mà không dừng chương trình\n",
    "            continue\n"
   ]
  },
  {
   "cell_type": "code",
   "execution_count": 21,
   "metadata": {},
   "outputs": [],
   "source": [
    "data_all_facebook = convert_to_dataframe_from_txt(\"output_Data.txt\")\n"
   ]
  },
  {
   "cell_type": "code",
   "execution_count": 22,
   "metadata": {},
   "outputs": [],
   "source": [
    "data_page = data_all_facebook[data_all_facebook['Nền tảng'] == \"Fanpage\"]"
   ]
  },
  {
   "cell_type": "code",
   "execution_count": 23,
   "metadata": {},
   "outputs": [],
   "source": [
    "data_group = data_all_facebook[data_all_facebook[\"Nền tảng\"] == \"Group\"]"
   ]
  },
  {
   "cell_type": "code",
   "execution_count": 24,
   "metadata": {},
   "outputs": [
    {
     "data": {
      "text/plain": [
       "'File đã được lưu với tên: D:\\\\BeatVn\\\\Data\\\\Data_10-22-2024\\\\page_facebook_10-22-2024.xlsx'"
      ]
     },
     "execution_count": 24,
     "metadata": {},
     "output_type": "execute_result"
    }
   ],
   "source": [
    "save_file(data_page,\"page\")"
   ]
  },
  {
   "cell_type": "code",
   "execution_count": 25,
   "metadata": {},
   "outputs": [
    {
     "data": {
      "text/plain": [
       "'File đã được lưu với tên: D:\\\\BeatVn\\\\Data\\\\Data_10-22-2024\\\\group_facebook_10-22-2024.xlsx'"
      ]
     },
     "execution_count": 25,
     "metadata": {},
     "output_type": "execute_result"
    }
   ],
   "source": [
    "save_file(data_group,\"group\")"
   ]
  },
  {
   "cell_type": "code",
   "execution_count": null,
   "metadata": {},
   "outputs": [],
   "source": []
  }
 ],
 "metadata": {
  "kernelspec": {
   "display_name": "myven",
   "language": "python",
   "name": "python3"
  },
  "language_info": {
   "codemirror_mode": {
    "name": "ipython",
    "version": 3
   },
   "file_extension": ".py",
   "mimetype": "text/x-python",
   "name": "python",
   "nbconvert_exporter": "python",
   "pygments_lexer": "ipython3",
   "version": "3.11.9"
  }
 },
 "nbformat": 4,
 "nbformat_minor": 2
}
